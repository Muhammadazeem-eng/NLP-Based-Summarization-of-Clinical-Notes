{
 "cells": [
  {
   "cell_type": "code",
   "execution_count": null,
   "id": "initial_id",
   "metadata": {
    "ExecuteTime": {
     "end_time": "2024-12-01T22:59:20.710494Z",
     "start_time": "2024-12-01T22:59:09.990260Z"
    },
    "collapsed": true
   },
   "outputs": [
    {
     "ename": "",
     "evalue": "",
     "output_type": "error",
     "traceback": [
      "\u001b[1;31mThe kernel failed to start as 'TypeAliasType' could not be imported from '/Users/rashmikulkarni/opt/anaconda3/lib/python3.11/site-packages/typing_extensions.py'.\n",
      "\u001b[1;31mClick <a href='https://aka.ms/kernelFailuresModuleImportErrFromFile'>here</a> for more info."
     ]
    }
   ],
   "source": [
    "import torch\n",
    "from transformers import PegasusTokenizer, PegasusForConditionalGeneration, Trainer, TrainingArguments, DataCollatorForSeq2Seq\n",
    "from datasets import Dataset\n",
    "from nltk.translate.bleu_score import sentence_bleu\n",
    "import pandas as pd\n",
    "from sklearn.model_selection import train_test_split\n",
    "import nltk\n",
    "import os\n",
    "os.environ[\"WANDB_DISABLED\"] = \"true\"\n"
   ]
  },
  {
   "cell_type": "code",
   "execution_count": null,
   "id": "a4d6fbdeb5659c42",
   "metadata": {
    "ExecuteTime": {
     "end_time": "2024-12-01T22:59:20.879033Z",
     "start_time": "2024-12-01T22:59:20.710997Z"
    }
   },
   "outputs": [],
   "source": [
    "df = pd.read_csv('Open-Patients-With-Summaries.csv')"
   ]
  },
  {
   "cell_type": "code",
   "execution_count": null,
   "id": "2837ffbdcdf8a681",
   "metadata": {
    "ExecuteTime": {
     "end_time": "2024-12-01T22:59:22.770688Z",
     "start_time": "2024-12-01T22:59:20.963248Z"
    }
   },
   "outputs": [],
   "source": [
    "device = \"cuda\" if torch.cuda.is_available() else \"cpu\""
   ]
  },
  {
   "cell_type": "code",
   "execution_count": null,
   "id": "c8fc333f55455e07",
   "metadata": {
    "ExecuteTime": {
     "end_time": "2024-12-01T22:59:22.781538Z",
     "start_time": "2024-12-01T22:59:22.778619Z"
    }
   },
   "outputs": [],
   "source": [
    "torch.cuda.empty_cache()"
   ]
  },
  {
   "cell_type": "code",
   "execution_count": null,
   "id": "c51ed9de78ea66e9",
   "metadata": {
    "ExecuteTime": {
     "end_time": "2024-12-01T22:59:31.687266Z",
     "start_time": "2024-12-01T22:59:22.790466Z"
    }
   },
   "outputs": [],
   "source": [
    "model_name = 'google/pegasus-large'\n",
    "tokenizer = PegasusTokenizer.from_pretrained(model_name)\n",
    "model = PegasusForConditionalGeneration.from_pretrained(model_name).to('cuda')"
   ]
  },
  {
   "cell_type": "code",
   "execution_count": null,
   "id": "2f39a7e26fb06d72",
   "metadata": {
    "ExecuteTime": {
     "end_time": "2024-12-01T22:59:31.705515Z",
     "start_time": "2024-12-01T22:59:31.699715Z"
    }
   },
   "outputs": [],
   "source": [
    "def preprocess_function(examples):\n",
    "    inputs = tokenizer(\n",
    "        examples['original_text'], padding=\"max_length\", truncation=True, max_length=256, return_tensors=\"pt\"\n",
    "    )\n",
    "    labels = tokenizer(\n",
    "        examples['summary'], padding=\"max_length\", truncation=True, max_length=128, return_tensors=\"pt\"\n",
    "    )\n",
    "\n",
    "    labels[\"input_ids\"] = torch.tensor([\n",
    "        [(label if label != tokenizer.pad_token_id else -100) for label in seq]\n",
    "        for seq in labels[\"input_ids\"]\n",
    "    ])\n",
    "\n",
    "    inputs = {key: value.to('cuda') for key, value in inputs.items()}\n",
    "    inputs[\"labels\"] = labels[\"input_ids\"].to('cuda')  # Move labels to GPU\n",
    "    return inputs"
   ]
  },
  {
   "cell_type": "code",
   "execution_count": null,
   "id": "c648088bfbe90082",
   "metadata": {
    "ExecuteTime": {
     "end_time": "2024-12-01T22:59:31.726189Z",
     "start_time": "2024-12-01T22:59:31.717418Z"
    }
   },
   "outputs": [],
   "source": [
    "train_df, test_df = train_test_split(df, test_size=0.2, random_state=42)"
   ]
  },
  {
   "cell_type": "code",
   "execution_count": null,
   "id": "38e3f41915b65209",
   "metadata": {
    "ExecuteTime": {
     "end_time": "2024-12-01T22:59:31.790898Z",
     "start_time": "2024-12-01T22:59:31.744282Z"
    }
   },
   "outputs": [],
   "source": [
    "train_dataset = Dataset.from_pandas(train_df)\n",
    "eval_dataset = Dataset.from_pandas(test_df)"
   ]
  },
  {
   "cell_type": "code",
   "execution_count": null,
   "id": "2351d97330d98d20",
   "metadata": {
    "ExecuteTime": {
     "end_time": "2024-12-01T22:59:39.422461Z",
     "start_time": "2024-12-01T22:59:31.808481Z"
    }
   },
   "outputs": [],
   "source": [
    "train_dataset = train_dataset.map(preprocess_function, batched=True)\n",
    "eval_dataset = eval_dataset.map(preprocess_function, batched=True)"
   ]
  },
  {
   "cell_type": "code",
   "execution_count": null,
   "id": "6d1cf9f540cee79c",
   "metadata": {
    "ExecuteTime": {
     "end_time": "2024-12-01T22:59:39.441380Z",
     "start_time": "2024-12-01T22:59:39.438548Z"
    }
   },
   "outputs": [],
   "source": [
    "data_collator = DataCollatorForSeq2Seq(tokenizer=tokenizer, model=model, padding=True)"
   ]
  },
  {
   "cell_type": "code",
   "execution_count": null,
   "id": "f24ad050a895d215",
   "metadata": {
    "ExecuteTime": {
     "end_time": "2024-12-01T23:46:57.613176Z",
     "start_time": "2024-12-01T22:59:39.462495Z"
    }
   },
   "outputs": [],
   "source": [
    "\n",
    "training_args = TrainingArguments(\n",
    "    output_dir='./results',\n",
    "    num_train_epochs=1,\n",
    "    per_device_train_batch_size=1,\n",
    "    gradient_accumulation_steps=4,\n",
    "    warmup_steps=500,\n",
    "    weight_decay=0.01,\n",
    "    save_total_limit=2,\n",
    "    save_strategy=\"epoch\",\n",
    "    evaluation_strategy=\"epoch\",\n",
    "    logging_dir='./logs',\n",
    "    fp16=True,\n",
    "    report_to=None)\n",
    "\n",
    "\n",
    "trainer = Trainer(\n",
    "    model=model,\n",
    "    args=training_args,\n",
    "    train_dataset=train_dataset,\n",
    "    eval_dataset=eval_dataset,\n",
    "    data_collator=data_collator)\n",
    "\n",
    "trainer.train()"
   ]
  },
  {
   "cell_type": "code",
   "execution_count": null,
   "id": "3f89e0c6521e0be9",
   "metadata": {
    "ExecuteTime": {
     "end_time": "2024-12-01T23:47:00.492614Z",
     "start_time": "2024-12-01T23:46:57.853492Z"
    }
   },
   "outputs": [],
   "source": [
    "save_path = './pegasus-finetuned'\n",
    "trainer.save_model(save_path)\n",
    "tokenizer.save_pretrained(save_path)"
   ]
  },
  {
   "cell_type": "code",
   "execution_count": null,
   "id": "4ebf6903d579479a",
   "metadata": {
    "ExecuteTime": {
     "end_time": "2024-12-01T23:52:48.923987Z",
     "start_time": "2024-12-01T23:52:48.906627Z"
    }
   },
   "outputs": [],
   "source": [
    "def calculate_metrics(row):\n",
    "    inputs = tokenizer(\n",
    "        row['original_text'], return_tensors=\"pt\", padding=\"max_length\", truncation=True, max_length=256\n",
    "    ).input_ids.to(device)\n",
    "    \n",
    "    target = tokenizer(\n",
    "        row['summary'], return_tensors=\"pt\", padding=\"max_length\", truncation=True, max_length=128\n",
    "    ).input_ids.to(device)\n",
    "\n",
    "    generated_ids = model.generate(inputs, max_length=128, num_beams=5, early_stopping=True)\n",
    "    predicted_summary = tokenizer.decode(generated_ids[0], skip_special_tokens=True)\n",
    "\n",
    "    bleu = sentence_bleu([row['summary'].split()], predicted_summary.split())\n",
    "    \n",
    "    return bleu, predicted_summary"
   ]
  },
  {
   "cell_type": "code",
   "execution_count": null,
   "id": "5864d084e33bc4aa",
   "metadata": {
    "ExecuteTime": {
     "end_time": "2024-12-02T02:09:46.417481Z",
     "start_time": "2024-12-01T23:52:52.223850Z"
    }
   },
   "outputs": [],
   "source": [
    "test_metrics = test_df.apply(calculate_metrics, axis=1, result_type='expand')\n",
    "test_metrics.columns = ['bleu_score', 'predicted_summary']"
   ]
  },
  {
   "cell_type": "code",
   "execution_count": null,
   "id": "96f7b5bdf3d4ba9c",
   "metadata": {
    "ExecuteTime": {
     "end_time": "2024-12-02T02:19:10.827282Z",
     "start_time": "2024-12-02T02:19:10.815045Z"
    }
   },
   "outputs": [],
   "source": [
    "test_df = pd.concat([test_df, test_metrics], axis=1)"
   ]
  },
  {
   "cell_type": "code",
   "execution_count": null,
   "id": "9f02567c76a3d048",
   "metadata": {
    "ExecuteTime": {
     "end_time": "2024-12-02T02:19:20.407422Z",
     "start_time": "2024-12-02T02:19:20.402498Z"
    }
   },
   "outputs": [],
   "source": [
    "duplicate_columns = test_df.columns.duplicated(keep='last') \n",
    "\n",
    "test_df = test_df.loc[:, duplicate_columns | ~test_df.columns.duplicated(keep='first')]\n",
    "\n",
    "print(test_df.columns)"
   ]
  },
  {
   "cell_type": "code",
   "execution_count": null,
   "id": "4ca6536de239e774",
   "metadata": {
    "ExecuteTime": {
     "end_time": "2024-12-02T02:20:54.602498Z",
     "start_time": "2024-12-02T02:20:54.589288Z"
    }
   },
   "outputs": [],
   "source": [
    "avg_bleu = test_df['bleu_score'].mean()\n",
    "print(f\"Average Test BLEU Score: {avg_bleu:.4f}\")"
   ]
  },
  {
   "cell_type": "code",
   "execution_count": null,
   "id": "c920dcdedd654ad9",
   "metadata": {
    "ExecuteTime": {
     "end_time": "2024-12-02T02:20:57.230300Z",
     "start_time": "2024-12-02T02:20:57.219869Z"
    }
   },
   "outputs": [],
   "source": [
    "print(test_df['bleu_score'].head())  \n",
    "print(test_df['bleu_score'].dtype)  "
   ]
  },
  {
   "cell_type": "code",
   "execution_count": null,
   "id": "8389e7f3b8f0d9ce",
   "metadata": {
    "ExecuteTime": {
     "end_time": "2024-12-02T02:14:29.165542Z",
     "start_time": "2024-12-02T02:14:29.059986Z"
    }
   },
   "outputs": [],
   "source": [
    "output_path = './Test-Predicted-With-Metrics-Pegasus.csv'\n",
    "test_df.to_csv(output_path, index=False)"
   ]
  },
  {
   "cell_type": "code",
   "execution_count": null,
   "id": "875bcb4c71ba7ba2",
   "metadata": {
    "ExecuteTime": {
     "end_time": "2024-12-02T02:14:57.756135Z",
     "start_time": "2024-12-02T02:14:57.743692Z"
    }
   },
   "outputs": [],
   "source": [
    "print(f\"Test results saved to {output_path}\")"
   ]
  },
  {
   "cell_type": "code",
   "execution_count": null,
   "id": "cebc1964a96196d4",
   "metadata": {
    "ExecuteTime": {
     "end_time": "2024-12-02T02:22:28.592717Z",
     "start_time": "2024-12-02T02:22:28.545992Z"
    }
   },
   "outputs": [],
   "source": [
    "df_results = pd.read_csv('Test-Predicted-With-Metrics-Pegasus.csv')"
   ]
  },
  {
   "cell_type": "code",
   "execution_count": null,
   "id": "157b1aa5a855c00e",
   "metadata": {
    "ExecuteTime": {
     "end_time": "2024-12-02T02:22:37.223695Z",
     "start_time": "2024-12-02T02:22:37.212781Z"
    }
   },
   "outputs": [],
   "source": [
    "df_results.head()"
   ]
  },
  {
   "cell_type": "code",
   "execution_count": null,
   "id": "6acba7c9794f0429",
   "metadata": {
    "ExecuteTime": {
     "end_time": "2024-12-02T02:23:21.106008Z",
     "start_time": "2024-12-02T02:23:21.095201Z"
    }
   },
   "outputs": [],
   "source": [
    "avg_bleu = df_results['bleu_score_predicted'].mean()\n",
    "print(f\"Average Test BLEU Score: {avg_bleu:.4f}\")"
   ]
  },
  {
   "cell_type": "code",
   "execution_count": null,
   "id": "2486a975d433cd38",
   "metadata": {
    "ExecuteTime": {
     "end_time": "2024-12-02T02:31:06.818200Z",
     "start_time": "2024-12-02T02:31:06.808936Z"
    }
   },
   "outputs": [],
   "source": [
    "df[['rouge1','rouge2','rougeL']].head()"
   ]
  },
  {
   "cell_type": "code",
   "execution_count": null,
   "id": "47bbca404c20bfe8",
   "metadata": {
    "ExecuteTime": {
     "end_time": "2024-12-02T02:31:31.920269Z",
     "start_time": "2024-12-02T02:31:31.909352Z"
    }
   },
   "outputs": [],
   "source": [
    "avg_rouge1, avg_rouge2, avg_rougeL = df[['rouge1','rouge2','rougeL']].mean()"
   ]
  },
  {
   "cell_type": "code",
   "execution_count": null,
   "id": "7a02b9bf888d7e17",
   "metadata": {
    "ExecuteTime": {
     "end_time": "2024-12-02T02:32:02.227540Z",
     "start_time": "2024-12-02T02:32:02.222634Z"
    }
   },
   "outputs": [],
   "source": [
    "print(f\"Average Test Rouge1 Score: {avg_rouge1:.4f}\")\n",
    "print(f\"Average Test Rouge2 Score: {avg_rouge2:.4f}\")\n",
    "print(f\"Average Test RougeL Score: {avg_rougeL:.4f}\")"
   ]
  }
 ],
 "metadata": {
  "kernelspec": {
   "display_name": "Python 3",
   "language": "python",
   "name": "python3"
  },
  "language_info": {
   "codemirror_mode": {
    "name": "ipython",
    "version": 2
   },
   "file_extension": ".py",
   "mimetype": "text/x-python",
   "name": "python",
   "nbconvert_exporter": "python",
   "pygments_lexer": "ipython2",
   "version": "3.11.0"
  }
 },
 "nbformat": 4,
 "nbformat_minor": 5
}
